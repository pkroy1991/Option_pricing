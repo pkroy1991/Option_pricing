{
 "cells": [
  {
   "cell_type": "code",
   "execution_count": 1,
   "id": "b1a69638-c521-4391-bf6a-38db973aeccc",
   "metadata": {},
   "outputs": [],
   "source": [
    "import numpy as np\n",
    "from scipy.stats import norm"
   ]
  },
  {
   "cell_type": "code",
   "execution_count": 13,
   "id": "461631aa-46bf-4536-8cb8-d0a1673f090c",
   "metadata": {},
   "outputs": [],
   "source": [
    "def black_Schole_pricer(S_t, K, sigma, r, t):\n",
    "    d_1 = (np.log(S_t/K) + ((r + (sigma**2)/2)*t))/(sigma*(np.sqrt(t)))\n",
    "    d_2 = d_1-(sigma*(np.sqrt(t)))\n",
    "    \n",
    "    N_d_1 = norm.cdf(d_1)\n",
    "    N_d_2 = norm.cdf(d_2)\n",
    "    \n",
    "    C = (N_d_1*S_t) - N_d_2*(K*np.exp(-(r*t)))\n",
    "    exp_payoff = N_d_2*(K*np.exp(-(r*t)))\n",
    "    \n",
    "    return C, N_d_1, exp_payoff"
   ]
  },
  {
   "cell_type": "code",
   "execution_count": 14,
   "id": "a0df9952-0b85-4dc0-8d1f-4ee099dea810",
   "metadata": {},
   "outputs": [
    {
     "data": {
      "text/plain": [
       "(2.3692673030924567, 0.328417828783411, 14.051624136078093)"
      ]
     },
     "execution_count": 14,
     "metadata": {},
     "output_type": "execute_result"
    }
   ],
   "source": [
    "black_Schole_pricer(50, 60, 0.25, 0.04, 12/12)"
   ]
  },
  {
   "cell_type": "code",
   "execution_count": null,
   "id": "88102754-f4f0-456d-8075-1d0b6e593c7e",
   "metadata": {},
   "outputs": [],
   "source": []
  }
 ],
 "metadata": {
  "kernelspec": {
   "display_name": "Python 3 (ipykernel)",
   "language": "python",
   "name": "python3"
  },
  "language_info": {
   "codemirror_mode": {
    "name": "ipython",
    "version": 3
   },
   "file_extension": ".py",
   "mimetype": "text/x-python",
   "name": "python",
   "nbconvert_exporter": "python",
   "pygments_lexer": "ipython3",
   "version": "3.12.5"
  }
 },
 "nbformat": 4,
 "nbformat_minor": 5
}
