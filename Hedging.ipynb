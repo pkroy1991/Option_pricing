{
 "cells": [
  {
   "cell_type": "code",
   "execution_count": 193,
   "id": "0d9e5046-2ec1-4ccb-a63c-2b90a2530562",
   "metadata": {},
   "outputs": [],
   "source": [
    "import numpy as np\n",
    "from scipy.stats import norm\n",
    "from scipy import optimize"
   ]
  },
  {
   "cell_type": "markdown",
   "id": "b48de99f-7cb3-4fec-8715-d0044eaeda37",
   "metadata": {},
   "source": [
    "# Delta hedging\n",
    "\n",
    "Suppose we sell an option on 1000 shares of stock ABC where \n",
    "\\begin{eqnarray}\n",
    "S_0 = \\text{spot price} \\\\\n",
    "X = \\text{strike price} \\\\\n",
    "r = \\text{interest rate} \\\\\n",
    "sigma = \\text{volatility} \\\\\n",
    "T = \\text{time to expiration}\n",
    "\\end{eqnarray}"
   ]
  },
  {
   "cell_type": "code",
   "execution_count": 194,
   "id": "9f6288f7-73c2-4900-838f-3f6efbf8cbef",
   "metadata": {},
   "outputs": [],
   "source": [
    "def delta_hedger(S_0, X, r, sigma, T):\n",
    "    d_1 = (np.log(S_0/X) + (r + ((sigma**2)/2))*T)/(sigma*np.sqrt(T))\n",
    "    return norm.cdf(d_1)"
   ]
  },
  {
   "cell_type": "code",
   "execution_count": 195,
   "id": "45739460-51a5-47de-86b5-17e4a380f4db",
   "metadata": {},
   "outputs": [
    {
     "data": {
      "text/plain": [
       "(855.5365179482682, 877.8216978021413, 841.4375070514154)"
      ]
     },
     "execution_count": 195,
     "metadata": {},
     "output_type": "execute_result"
    }
   ],
   "source": [
    "(delta_hedger(50, 40, 0.05, 0.30, 52/52)*1000), delta_hedger(51.5, 40, 0.05, 0.30, 51/52)*1000, delta_hedger(49, 40, 0.05, 0.30, 50/52)*1000"
   ]
  },
  {
   "cell_type": "markdown",
   "id": "7a2f783e-6995-47cc-9b92-fde62e479a8b",
   "metadata": {},
   "source": [
    "There is a drawback with this approach as we can see. When the price increases from 50 to 51.5, the number of stocks required for hedging goes up. Moreover, when the price reduces to 49, we need to reduce the number of stocks accordingly. \n",
    "# bad-trade-deal\n",
    "<div align = 'center'>\n",
    "<b> We are buying up and selling low. We are always going the wrong way on stock trades.<b>\n",
    "</div>"
   ]
  },
  {
   "cell_type": "markdown",
   "id": "c6863b5f-d0d4-4688-9f1a-1715d22ddeef",
   "metadata": {},
   "source": [
    "# Implied volatility"
   ]
  },
  {
   "cell_type": "code",
   "execution_count": 196,
   "id": "3bdb23e3-5500-4d83-ae69-00164ce7a182",
   "metadata": {},
   "outputs": [],
   "source": [
    "def implied_vol_cal(V, S_0, X, r, T):\n",
    "    def black_schole_price(x):\n",
    "        d_1 = (np.log(S_0/X) + (r + ((x**2)/2))*T)/(x*np.sqrt(T))\n",
    "        d_2 = d_1 - (x*np.sqrt(T))\n",
    "    \n",
    "        return (S_0*(norm.cdf(d_1)) - X*(np.exp((-r)*T)*norm.cdf(d_2)) - V)\n",
    "        \n",
    "    return optimize.brentq(black_schole_price, 10**(-6), 1)"
   ]
  },
  {
   "cell_type": "code",
   "execution_count": 197,
   "id": "38a44d68-cc4d-4e2d-a83b-73c98ae51267",
   "metadata": {},
   "outputs": [
    {
     "data": {
      "text/plain": [
       "(0.448146521468883, 0.6730068343895313)"
      ]
     },
     "execution_count": 197,
     "metadata": {},
     "output_type": "execute_result"
    }
   ],
   "source": [
    "implied_vol_cal(3.8, 40, 40, 0.05, 3/12), implied_vol_cal(2, 45, 60, 0.047, 3/12) "
   ]
  },
  {
   "cell_type": "markdown",
   "id": "41bcb3f9-0c92-4cea-b8f0-7ee37b96c79e",
   "metadata": {},
   "source": [
    "# Updating the call price using $\\Delta, \\Gamma$, $\\Theta$ and using the approximation of $dC$"
   ]
  },
  {
   "cell_type": "markdown",
   "id": "223c1419-815e-4fe7-b410-4b2a9902cbf7",
   "metadata": {},
   "source": [
    "We have\n",
    "\\begin{eqnarray}\n",
    "dC &\\approx& \\frac{\\partial C}{\\partial t}dt + \\frac{\\partial C}{\\partial S}dS + \\frac{\\sigma^2}{2}S^2\\frac{\\partial^2 C}{\\partial S^2} \\\\\n",
    "&\\approx& \\Theta dt + \\Delta dS + \\Gamma \\frac{1}{2}(dS)^2\n",
    "\\end{eqnarray}\n",
    "where \n",
    "\\begin{eqnarray}\n",
    "\\Delta &=& \\frac{\\partial C}{\\partial S} = N(d_1) \\\\\n",
    "\\Gamma &=& \\frac{\\partial^2 C}{\\partial S^2} = \\frac{1}{\\sigma S \\sqrt{2\\pi T}}e^{-d_1^2/2} \\\\\n",
    "\\Theta &=& \\frac{\\partial C}{\\partial t} = -re^{-rT}XN(d_2) - \\frac{1}{2}\\sigma^2 S^2 \\Gamma.\n",
    "\\end{eqnarray}\n",
    "Therefore $$C_{new} = C_{old} + dC$$\n",
    "where $C_{old} = $ black_Schole_pricer$(S_0, X, sigma, r, T)$\n",
    "\n",
    "To address the <span style=\"color:red\"><i>bad-trade-deal</i></span> , we revise our hedging strategies as follows.:\n",
    "<div align = 'centre'>\n",
    "    <b>Instead of buying/selling $\\Delta$ quantity of stocks against a call, we buy/sell $\\frac{1}{\\Delta}$ quantity of call against a stock<b>\n",
    "</div>\n",
    "\n",
    "        # Advantage with the above stratigy is the following:\n",
    "- when stock price increases, $d_1$ goes up and inturn $\\Delta$ and call price increases. However, $1/\\Delta$ reduces, which means we need to reduce the number of call.\n",
    "- OTOH when stock prices reduces, $d_1$ goes down and hence $\\Delta$ and call prices reduces. But $1/\\Delta$ increases, therefore we need to increase the number of call."
   ]
  },
  {
   "cell_type": "code",
   "execution_count": 204,
   "id": "4215e205-23fb-416b-beb7-689bf98218f1",
   "metadata": {},
   "outputs": [
    {
     "name": "stdout",
     "output_type": "stream",
     "text": [
      "The history saving thread hit an unexpected error (OperationalError('attempt to write a readonly database')).History will not be written to the database.\n"
     ]
    }
   ],
   "source": [
    "def delta_gamma_theta_cal(S_0, X, sigma, r, T):\n",
    "    d_1 = (np.log(S_0/X) + ((r + (sigma**2)/2)*T))/(sigma*np.sqrt(T))\n",
    "    d_2 = d_1 - sigma*np.sqrt(T)\n",
    "    delta = norm.cdf(d_1)\n",
    "    gamma = np.exp(-((d_1)**2)/2)/(sigma*(S_0*np.sqrt(2*(np.pi*T))))\n",
    "    theta = -r*np.exp(-r*T)*(X*norm.cdf(d_2)) - 0.5*sigma**2*((S_0**2)*gamma)\n",
    "    return delta, gamma, theta"
   ]
  },
  {
   "cell_type": "code",
   "execution_count": 205,
   "id": "6272e169-f6c9-4169-8ab5-bcb31d3eb9c3",
   "metadata": {},
   "outputs": [
    {
     "data": {
      "text/plain": [
       "((0.41084208775394915, 0.03666938495373566, -5.012733682039494),\n",
       " (0.5640666652002937, 0.03977645278816542, -9.332270737142196))"
      ]
     },
     "execution_count": 205,
     "metadata": {},
     "output_type": "execute_result"
    }
   ],
   "source": [
    "delta_gamma_theta_cal(50, 55, 0.30, 0.05, 6/12), delta_gamma_theta_cal(60, 60, 0.33, 0.052, 3/12)"
   ]
  },
  {
   "cell_type": "code",
   "execution_count": 206,
   "id": "062224ac-261d-40dd-a3d8-3ffa4fb6774d",
   "metadata": {},
   "outputs": [],
   "source": [
    "def black_Schole_pricer(S_0, X, sigma, r, T):\n",
    "    d_1 = (np.log(S_0/X) + ((r + (sigma**2)/2)*T))/(sigma*(np.sqrt(T)))\n",
    "    d_2 = d_1-(sigma*(np.sqrt(T)))\n",
    "    \n",
    "    N_d_1 = norm.cdf(d_1)\n",
    "    N_d_2 = norm.cdf(d_2)\n",
    "    \n",
    "    C = (N_d_1*S_0) - N_d_2*(X*np.exp(-(r*T)))\n",
    "    exp_payoff = N_d_2*(X*np.exp(-(r*T)))\n",
    "    \n",
    "    return C"
   ]
  },
  {
   "cell_type": "code",
   "execution_count": 207,
   "id": "38dcfbec-346d-4d9f-b266-09da0a23e344",
   "metadata": {},
   "outputs": [],
   "source": [
    "S_0 = 43\n",
    "X = 40\n",
    "sigma = 0.1414\n",
    "r = 0.05\n",
    "T = 12/12\n",
    "dt = 3/52\n",
    "S_new = 44\n",
    "dS = S_new - S_0\n",
    "delta = delta_gamma_theta_cal(S_0, X, sigma, r, T)[0]\n",
    "gamma = delta_gamma_theta_cal(S_0, X, sigma, r, T)[1]\n",
    "theta = delta_gamma_theta_cal(S_0, X, sigma, r, T)[2]\n",
    "\n",
    "C_old = black_Schole_pricer(S_0, X, sigma, r, T)\n",
    "\n",
    "dC = (theta*dt) + ((delta*dS) + (0.5*gamma*(dS**2)))\n",
    "C_new = C_old + dC"
   ]
  },
  {
   "cell_type": "code",
   "execution_count": 208,
   "id": "8ef00f28-a32d-42ea-acc0-99ae67c18e4f",
   "metadata": {},
   "outputs": [
    {
     "name": "stdout",
     "output_type": "stream",
     "text": [
      "6.277014912466308\n"
     ]
    },
    {
     "data": {
      "text/plain": [
       "(None, 6.276216041646972)"
      ]
     },
     "execution_count": 208,
     "metadata": {},
     "output_type": "execute_result"
    }
   ],
   "source": [
    "print(C_new), black_Schole_pricer(44, 40, 0.1414, 0.05, 12/12 - 3/52)"
   ]
  },
  {
   "cell_type": "markdown",
   "id": "7630a25c-a635-4729-9fc7-e74226cfa132",
   "metadata": {},
   "source": [
    "Note that the two values C_new and black_Schole_pricer() are same which they should be."
   ]
  },
  {
   "cell_type": "code",
   "execution_count": null,
   "id": "6f827dcc-577c-43a5-a4de-df83c61a53e5",
   "metadata": {},
   "outputs": [],
   "source": []
  }
 ],
 "metadata": {
  "kernelspec": {
   "display_name": "Python 3 (ipykernel)",
   "language": "python",
   "name": "python3"
  },
  "language_info": {
   "codemirror_mode": {
    "name": "ipython",
    "version": 3
   },
   "file_extension": ".py",
   "mimetype": "text/x-python",
   "name": "python",
   "nbconvert_exporter": "python",
   "pygments_lexer": "ipython3",
   "version": "3.12.5"
  }
 },
 "nbformat": 4,
 "nbformat_minor": 5
}
