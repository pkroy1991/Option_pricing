{
 "cells": [
  {
   "cell_type": "markdown",
   "id": "cad07e56-7245-44af-96b6-090e66a3f8bd",
   "metadata": {},
   "source": [
    "# Pricing a European call option using binomial method"
   ]
  },
  {
   "cell_type": "code",
   "execution_count": 3,
   "id": "d1896b5c-d0ef-4225-9f73-e5fafacc54a9",
   "metadata": {},
   "outputs": [],
   "source": [
    "import math"
   ]
  },
  {
   "cell_type": "code",
   "execution_count": 4,
   "id": "95c44e5f-f28d-469d-a0c7-52f351871a7f",
   "metadata": {},
   "outputs": [],
   "source": [
    "def euro_call_pricer_binomial(S0, X, n, r, u, d):\n",
    "    q = (math.exp(r) - d)/(u-d)\n",
    "    Vn = []\n",
    "    Sn = [] \n",
    "\n",
    "    for k in range(n+1):\n",
    "        Sn.append((u**(n-k))*((d**k)*S0))\n",
    "        Vn_k = max(Sn[k] - X, 0)\n",
    "        Vn.append(Vn_k)\n",
    "    V = 0\n",
    "\n",
    "    for i in range(n+1):\n",
    "        V = V + math.comb(n,i)*(q**(n-i)*(((1-q)**i)*Vn[i]))\n",
    "    V0 = math.exp(-(r*n))*V\n",
    "    return V0"
   ]
  },
  {
   "cell_type": "code",
   "execution_count": 5,
   "id": "ddda0894-38ef-44b1-9783-6dff39179b47",
   "metadata": {},
   "outputs": [
    {
     "data": {
      "text/plain": [
       "15.530260126908768"
      ]
     },
     "execution_count": 5,
     "metadata": {},
     "output_type": "execute_result"
    }
   ],
   "source": [
    "euro_call_pricer_binomial(100, 100, 3, 0.05, 1.1, 0.9)"
   ]
  },
  {
   "cell_type": "markdown",
   "id": "fbd1593e-ee3e-403c-bb1e-cba50e734ef7",
   "metadata": {},
   "source": [
    "# To price a european put option we just need to replace $Vn_k = \\max(Sn[k] - X, 0)$ in the above code with $Vn_k = \\max(X - Sn[k], 0)$."
   ]
  },
  {
   "cell_type": "code",
   "execution_count": 6,
   "id": "8495b708-12d4-4112-9bb4-2df3258f4c77",
   "metadata": {},
   "outputs": [],
   "source": [
    "def euro_put_pricer_binomial(S0, X, n, r, u, d):\n",
    "    q = (math.exp(r) - d)/(u-d)\n",
    "    Vn = []\n",
    "    Sn = [] \n",
    "\n",
    "    for k in range(n+1):\n",
    "        Sn.append((u**(n-k))*((d**k)*S0))\n",
    "        Vn_k = max(X - Sn[k], 0)\n",
    "        Vn.append(Vn_k)\n",
    "    V = 0\n",
    "\n",
    "    for i in range(n+1):\n",
    "        V = V + math.comb(n,i)*(q**(n-i)*(((1-q)**i)*Vn[i]))\n",
    "    V0 = math.exp(-(r*n))*V\n",
    "    return V0"
   ]
  },
  {
   "cell_type": "code",
   "execution_count": 7,
   "id": "a069da73-98ce-444d-aa13-e6255eb1fedb",
   "metadata": {},
   "outputs": [
    {
     "data": {
      "text/plain": [
       "1.6010577694145203"
      ]
     },
     "execution_count": 7,
     "metadata": {},
     "output_type": "execute_result"
    }
   ],
   "source": [
    "euro_put_pricer_binomial(100, 100, 3, 0.05, 1.1, 0.9)"
   ]
  },
  {
   "cell_type": "code",
   "execution_count": null,
   "id": "f2f443b8-d3ef-4f79-8cee-41e697732b19",
   "metadata": {},
   "outputs": [],
   "source": []
  }
 ],
 "metadata": {
  "kernelspec": {
   "display_name": "Python 3 (ipykernel)",
   "language": "python",
   "name": "python3"
  },
  "language_info": {
   "codemirror_mode": {
    "name": "ipython",
    "version": 3
   },
   "file_extension": ".py",
   "mimetype": "text/x-python",
   "name": "python",
   "nbconvert_exporter": "python",
   "pygments_lexer": "ipython3",
   "version": "3.12.5"
  }
 },
 "nbformat": 4,
 "nbformat_minor": 5
}
