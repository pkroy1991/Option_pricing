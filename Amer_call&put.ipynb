{
 "cells": [
  {
   "cell_type": "markdown",
   "id": "d8878719-7559-4d71-b439-b547a0feb3f7",
   "metadata": {},
   "source": [
    "# Pricing an american call/put option"
   ]
  },
  {
   "cell_type": "code",
   "execution_count": 1,
   "id": "472bc8d4-7b9a-4a78-a0e3-38efe0da53db",
   "metadata": {},
   "outputs": [],
   "source": [
    "import math"
   ]
  },
  {
   "cell_type": "code",
   "execution_count": 2,
   "id": "b46d17ed-11e5-458b-83b7-dff7826f805a",
   "metadata": {},
   "outputs": [],
   "source": [
    "def amer_call_pricer_bin(S0, X, n, r, u, d):\n",
    "    q = (math.exp(r) - d)/(u-d)\n",
    "    Vn = []\n",
    "    Sn = [] \n",
    "\n",
    "    for k in range(n+1):\n",
    "        Sn.append((u**(n-k))*((d**k)*S0))\n",
    "        Vn_k = max(Sn[k] - X, 0)\n",
    "        Vn.append(Vn_k)\n",
    "\n",
    "    chaining_value_i = 0\n",
    "    immidiate_exec_price = 0 \n",
    "    for j in range(1, n+1):\n",
    "        for i in range(len(Vn)-j):\n",
    "            chaining_value_i = math.exp(-r)*(q*Vn[i] + (1-q)*Vn[i+1])\n",
    "            immidiate_exec_price = ((u**((n-j)-i))*((d**i)*S0)) - X\n",
    "            Vn[i] = max(chaining_value_i, immidiate_exec_price)\n",
    "    print(Vn[0])"
   ]
  },
  {
   "cell_type": "code",
   "execution_count": 3,
   "id": "05428c90-251c-40ff-a156-d89b4f0a2d7c",
   "metadata": {},
   "outputs": [
    {
     "name": "stdout",
     "output_type": "stream",
     "text": [
      "15.530260126908772\n"
     ]
    }
   ],
   "source": [
    "amer_call_pricer_bin(100, 100, 3, 0.05, 1.1, 0.9)"
   ]
  },
  {
   "cell_type": "markdown",
   "id": "eb422ade-5e8e-4a20-90de-ec40d0b6b556",
   "metadata": {},
   "source": [
    "# American put pricer is as follows:"
   ]
  },
  {
   "cell_type": "code",
   "execution_count": 4,
   "id": "3486da80-ad55-49ad-8444-678d49868f22",
   "metadata": {},
   "outputs": [],
   "source": [
    "def amer_put_pricer_bin(S0, X, n, r, u, d):\n",
    "    q = (math.exp(r) - d)/(u-d)\n",
    "    Vn = []\n",
    "    Sn = [] \n",
    "\n",
    "    for k in range(n+1):\n",
    "        Sn.append((u**(n-k))*((d**k)*S0))\n",
    "        Vn_k = max(X - Sn[k], 0)\n",
    "        Vn.append(Vn_k)\n",
    "\n",
    "    chaining_value_i = 0\n",
    "    immidiate_exec_price = 0 \n",
    "    for j in range(1, n+1):\n",
    "        for i in range(len(Vn)-j):\n",
    "            chaining_value_i = math.exp(-r)*(q*Vn[i] + (1-q)*Vn[i+1])\n",
    "            immidiate_exec_price = X - ((u**((n-j)-i))*((d**i)*S0))\n",
    "            Vn[i] = max(chaining_value_i, immidiate_exec_price)\n",
    "    print(Vn[0])"
   ]
  },
  {
   "cell_type": "code",
   "execution_count": 5,
   "id": "96bc62a1-8f5a-4b6f-8304-595a2903e9ce",
   "metadata": {},
   "outputs": [
    {
     "name": "stdout",
     "output_type": "stream",
     "text": [
      "2.7388505583074285\n"
     ]
    }
   ],
   "source": [
    "amer_put_pricer_bin(100, 100, 3, 0.05, 1.1, 0.9)"
   ]
  },
  {
   "cell_type": "markdown",
   "id": "574da0f4-7c72-43cd-90bc-3a2007cada9f",
   "metadata": {},
   "source": [
    "# We can see that for the same parameters american put price is much higher than the european put price."
   ]
  },
  {
   "cell_type": "code",
   "execution_count": null,
   "id": "fe51f00d-7ffd-41ce-bdca-7b9f08e7c617",
   "metadata": {},
   "outputs": [],
   "source": []
  }
 ],
 "metadata": {
  "kernelspec": {
   "display_name": "Python 3 (ipykernel)",
   "language": "python",
   "name": "python3"
  },
  "language_info": {
   "codemirror_mode": {
    "name": "ipython",
    "version": 3
   },
   "file_extension": ".py",
   "mimetype": "text/x-python",
   "name": "python",
   "nbconvert_exporter": "python",
   "pygments_lexer": "ipython3",
   "version": "3.12.5"
  }
 },
 "nbformat": 4,
 "nbformat_minor": 5
}
