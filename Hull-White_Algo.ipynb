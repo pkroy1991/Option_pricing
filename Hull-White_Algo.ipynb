{
 "cells": [
  {
   "cell_type": "markdown",
   "id": "e2ba3666-213f-4d4f-bc37-e8b9519c5d98",
   "metadata": {},
   "source": [
    "# Adjusting the binomial tree model to real world data\n",
    "From a given stock data, we can compute $u, d$ as follows:"
   ]
  },
  {
   "cell_type": "code",
   "execution_count": 1,
   "id": "78db4c36-3db4-489a-b559-06f1dec843d0",
   "metadata": {},
   "outputs": [],
   "source": [
    "import numpy as np"
   ]
  },
  {
   "cell_type": "code",
   "execution_count": 2,
   "id": "9ae89809-ab50-4c1f-b44b-59ea661fec62",
   "metadata": {},
   "outputs": [],
   "source": [
    "def Hull_white_algo(S, t):\n",
    "    n = len(S)\n",
    "    X = []\n",
    "    for k in range(n-1):\n",
    "        X_k = S[k+1]/S[k]\n",
    "        X.append(X_k)\n",
    "    sample_mean = (np.sum(X)/(n-1)) - 1\n",
    "    sample_var = np.sum([(x-1-sample_mean)**2 for x in X])/(n-2)\n",
    "    \n",
    "    u = 1 + sample_mean*t + np.sqrt(sample_var*t)\n",
    "    d = 1 + sample_mean*t - np.sqrt(sample_var*t)\n",
    "    \n",
    "    return u, d, sample_mean, np.sqrt(sample_var)"
   ]
  },
  {
   "cell_type": "code",
   "execution_count": 5,
   "id": "ef8f557a-1d79-4d1c-8d7d-81fad531ea18",
   "metadata": {},
   "outputs": [],
   "source": [
    "S = [29.56, 30.125, 28.56, 27.5, 28.125, 27.44, 27.06, 27.125, 28.69, 27.94, 27.25]\n",
    "t = 7"
   ]
  },
  {
   "cell_type": "code",
   "execution_count": 6,
   "id": "ab08c033-81d1-4bec-89d0-39126bba69cc",
   "metadata": {},
   "outputs": [
    {
     "data": {
      "text/plain": [
       "(1.0339474218275644,\n",
       " 0.8594181719781049,\n",
       " -0.007616743299595052,\n",
       " 0.03298292797202338)"
      ]
     },
     "execution_count": 6,
     "metadata": {},
     "output_type": "execute_result"
    }
   ],
   "source": [
    "Hull_white_algo(S, t)"
   ]
  },
  {
   "cell_type": "code",
   "execution_count": null,
   "id": "8a0728f7-223d-4def-83ae-8ddd6ff5bf52",
   "metadata": {},
   "outputs": [],
   "source": []
  }
 ],
 "metadata": {
  "kernelspec": {
   "display_name": "Python 3 (ipykernel)",
   "language": "python",
   "name": "python3"
  },
  "language_info": {
   "codemirror_mode": {
    "name": "ipython",
    "version": 3
   },
   "file_extension": ".py",
   "mimetype": "text/x-python",
   "name": "python",
   "nbconvert_exporter": "python",
   "pygments_lexer": "ipython3",
   "version": "3.12.5"
  }
 },
 "nbformat": 4,
 "nbformat_minor": 5
}
