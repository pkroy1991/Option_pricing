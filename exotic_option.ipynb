{
 "cells": [
  {
   "cell_type": "markdown",
   "id": "ee376626-69c4-4e94-a9f3-f951c5c604f3",
   "metadata": {},
   "source": [
    "# Pricing an Exotic option\n",
    "The following is a code to price an exotic call option, by tweaking a little we can also get the corresponding exotic put pricer.\n",
    "Note that this is $\\textit{down and out}$ option."
   ]
  },
  {
   "cell_type": "code",
   "execution_count": 21,
   "id": "b71e4d61-89e6-4a49-a66f-0ac1deb47869",
   "metadata": {},
   "outputs": [],
   "source": [
    "import math"
   ]
  },
  {
   "cell_type": "code",
   "execution_count": 22,
   "id": "19cceafc-f006-43a1-a7e3-332f781a5e10",
   "metadata": {},
   "outputs": [],
   "source": [
    "def exotic_option_pricer_d_out(S0, X, B, n, r, u, d):\n",
    "    q = (math.exp(r) - d)/(u-d)\n",
    "    Vn = []\n",
    "    Sn = [] \n",
    "\n",
    "    for k in range(n+1):\n",
    "        Sn.append((u**(n-k))*((d**k)*S0))\n",
    "        if Sn[k] >= B:\n",
    "            Vn_k = max(Sn[k] - X, 0)\n",
    "            Vn.append(Vn_k)\n",
    "        else:\n",
    "            Vn.append(0)\n",
    "\n",
    "    chaining_value_i = 0\n",
    "    for j in range(1, n+1):\n",
    "        for i in range(len(Vn)-j):\n",
    "            chaining_value_i = math.exp(-r)*(q*Vn[i] + (1-q)*Vn[i+1])\n",
    "            if ((u**((n-j)-i))*((d**i)*S0)) >= B:\n",
    "                Vn[i] = chaining_value_i\n",
    "            else:\n",
    "                Vn[i] = 0\n",
    "    print(Vn[0])"
   ]
  },
  {
   "cell_type": "code",
   "execution_count": 23,
   "id": "f317e766-decd-4f36-8908-2ff565108f62",
   "metadata": {},
   "outputs": [
    {
     "name": "stdout",
     "output_type": "stream",
     "text": [
      "28.591326700094193\n"
     ]
    }
   ],
   "source": [
    "exotic_option_pricer_d_out(70, 50, 55, 3, 0.06, 1.25, 0.8)"
   ]
  },
  {
   "cell_type": "markdown",
   "id": "38c33b38-63d7-4e68-a089-76f1cb0d1d0e",
   "metadata": {},
   "source": [
    "Following is $\\textit{up and out}$ exotic call option pricer."
   ]
  },
  {
   "cell_type": "code",
   "execution_count": 24,
   "id": "fb9e2324-f8af-4aa1-a8ec-851daa439e2b",
   "metadata": {},
   "outputs": [],
   "source": [
    "def exotic_option_pricer_u_out(S0, X, B, n, r, u, d):\n",
    "    q = (math.exp(r) - d)/(u-d)\n",
    "    Vn = []\n",
    "    Sn = [] \n",
    "\n",
    "    for k in range(n+1):\n",
    "        Sn.append((u**(n-k))*((d**k)*S0))\n",
    "        if Sn[k] <= B:\n",
    "            Vn_k = max(Sn[k] - X, 0)\n",
    "            Vn.append(Vn_k)\n",
    "        else:\n",
    "            Vn.append(0)\n",
    "\n",
    "    chaining_value_i = 0\n",
    "    for j in range(1, n+1):\n",
    "        for i in range(len(Vn)-j):\n",
    "            chaining_value_i = math.exp(-r)*(q*Vn[i] + (1-q)*Vn[i+1])\n",
    "            if ((u**((n-j)-i))*((d**i)*S0)) <= B:\n",
    "                Vn[i] = chaining_value_i\n",
    "            else:\n",
    "                Vn[i] = 0\n",
    "    print(Vn[0])"
   ]
  },
  {
   "cell_type": "code",
   "execution_count": 25,
   "id": "03e94466-9e4d-42be-b4a2-347f9a6e502d",
   "metadata": {},
   "outputs": [
    {
     "name": "stdout",
     "output_type": "stream",
     "text": [
      "5.291152881491191\n"
     ]
    }
   ],
   "source": [
    "exotic_option_pricer_u_out(100, 85, 115, 3, 0.06, 1.1, 0.9)"
   ]
  },
  {
   "cell_type": "code",
   "execution_count": null,
   "id": "3f871139-e8db-45db-82e1-49a359d3dc8b",
   "metadata": {},
   "outputs": [],
   "source": []
  }
 ],
 "metadata": {
  "kernelspec": {
   "display_name": "Python 3 (ipykernel)",
   "language": "python",
   "name": "python3"
  },
  "language_info": {
   "codemirror_mode": {
    "name": "ipython",
    "version": 3
   },
   "file_extension": ".py",
   "mimetype": "text/x-python",
   "name": "python",
   "nbconvert_exporter": "python",
   "pygments_lexer": "ipython3",
   "version": "3.12.5"
  }
 },
 "nbformat": 4,
 "nbformat_minor": 5
}
